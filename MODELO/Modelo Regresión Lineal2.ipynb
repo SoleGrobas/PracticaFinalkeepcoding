{
 "cells": [
  {
   "cell_type": "markdown",
   "id": "57bbb2bf",
   "metadata": {},
   "source": [
    "---\n",
    "<center>Grupo 4 - Yellow Data Team | Mayo 2024\n",
    "</center>\n",
    "\n",
    "---\n",
    "| Integrantes  |\n",
    "|--------------|\n",
    "| Laura Moreno |\n",
    "| Michellynne Borromeau |\n",
    "| Silvia Alonso |\n",
    "| Elena Prada |\n",
    "| Verónica Encinas |\n",
    "| Soledad Grobas |"
   ]
  },
  {
   "cell_type": "markdown",
   "id": "e2552529",
   "metadata": {},
   "source": [
    "# Modelo con Regresión Lineal\n",
    "\n",
    "##### Nuestro objetivo es elaborar un modelo que prediga el precio de un alquiler turístico en Madrid empleando regresión lineal.\n",
    "\n",
    "## 1. Carga de Datos"
   ]
  },
  {
   "cell_type": "code",
   "execution_count": 1,
   "id": "eb9dcc1b",
   "metadata": {},
   "outputs": [
    {
     "ename": "ModuleNotFoundError",
     "evalue": "No module named 'seaborn'",
     "output_type": "error",
     "traceback": [
      "\u001b[1;31m---------------------------------------------------------------------------\u001b[0m",
      "\u001b[1;31mModuleNotFoundError\u001b[0m                       Traceback (most recent call last)",
      "Cell \u001b[1;32mIn[1], line 4\u001b[0m\n\u001b[0;32m      2\u001b[0m \u001b[38;5;28;01mimport\u001b[39;00m \u001b[38;5;21;01mpandas\u001b[39;00m \u001b[38;5;28;01mas\u001b[39;00m \u001b[38;5;21;01mpd\u001b[39;00m\n\u001b[0;32m      3\u001b[0m \u001b[38;5;28;01mimport\u001b[39;00m \u001b[38;5;21;01mnumpy\u001b[39;00m \u001b[38;5;28;01mas\u001b[39;00m \u001b[38;5;21;01mnp\u001b[39;00m\n\u001b[1;32m----> 4\u001b[0m \u001b[38;5;28;01mimport\u001b[39;00m \u001b[38;5;21;01mseaborn\u001b[39;00m \u001b[38;5;28;01mas\u001b[39;00m \u001b[38;5;21;01msns\u001b[39;00m\n\u001b[0;32m      5\u001b[0m \u001b[38;5;28;01mimport\u001b[39;00m \u001b[38;5;21;01mmatplotlib\u001b[39;00m\u001b[38;5;21;01m.\u001b[39;00m\u001b[38;5;21;01mpyplot\u001b[39;00m \u001b[38;5;28;01mas\u001b[39;00m \u001b[38;5;21;01mplt\u001b[39;00m\n\u001b[0;32m      6\u001b[0m \u001b[38;5;28;01mfrom\u001b[39;00m \u001b[38;5;21;01msklearn\u001b[39;00m\u001b[38;5;21;01m.\u001b[39;00m\u001b[38;5;21;01mlinear_model\u001b[39;00m \u001b[38;5;28;01mimport\u001b[39;00m LinearRegression, Ridge, Lasso\n",
      "\u001b[1;31mModuleNotFoundError\u001b[0m: No module named 'seaborn'"
     ]
    }
   ],
   "source": [
    "#Cargamos librerías\n",
    "import pandas as pd\n",
    "import numpy as np\n",
    "import seaborn as sns\n",
    "import matplotlib.pyplot as plt\n",
    "from sklearn.linear_model import LinearRegression, Ridge, Lasso\n",
    "from sklearn.preprocessing import StandardScaler\n",
    "from sklearn.model_selection import train_test_split, GridSearchCV\n",
    "from sklearn.metrics import mean_squared_error, r2_score\n",
    "%matplotlib inline\n",
    "import warnings\n",
    "warnings.filterwarnings('ignore')"
   ]
  },
  {
   "cell_type": "code",
   "execution_count": 2,
   "id": "da09f1dc",
   "metadata": {
    "scrolled": false
   },
   "outputs": [
    {
     "data": {
      "text/html": [
       "<div>\n",
       "<style scoped>\n",
       "    .dataframe tbody tr th:only-of-type {\n",
       "        vertical-align: middle;\n",
       "    }\n",
       "\n",
       "    .dataframe tbody tr th {\n",
       "        vertical-align: top;\n",
       "    }\n",
       "\n",
       "    .dataframe thead th {\n",
       "        text-align: right;\n",
       "    }\n",
       "</style>\n",
       "<table border=\"1\" class=\"dataframe\">\n",
       "  <thead>\n",
       "    <tr style=\"text-align: right;\">\n",
       "      <th></th>\n",
       "      <th>location</th>\n",
       "      <th>coordinates</th>\n",
       "      <th>latitude</th>\n",
       "      <th>longitude</th>\n",
       "      <th>name</th>\n",
       "      <th>room type</th>\n",
       "      <th>room price</th>\n",
       "      <th>number of reviews</th>\n",
       "      <th>minimum nights</th>\n",
       "      <th>availibility</th>\n",
       "      <th>rooms rent by the host</th>\n",
       "    </tr>\n",
       "  </thead>\n",
       "  <tbody>\n",
       "    <tr>\n",
       "      <th>0</th>\n",
       "      <td>Ciudad Jardín</td>\n",
       "      <td>40.45004385318866, -3.6712841871122457</td>\n",
       "      <td>40.450044</td>\n",
       "      <td>-3.671284</td>\n",
       "      <td>Sunny room with balcony in pretty family house</td>\n",
       "      <td>Private room</td>\n",
       "      <td>26</td>\n",
       "      <td>6</td>\n",
       "      <td>7</td>\n",
       "      <td>179</td>\n",
       "      <td>2</td>\n",
       "    </tr>\n",
       "    <tr>\n",
       "      <th>1</th>\n",
       "      <td>Trafalgar</td>\n",
       "      <td>40.43042274619744, -3.701693596173804</td>\n",
       "      <td>40.430423</td>\n",
       "      <td>-3.701694</td>\n",
       "      <td>Apartamento muy cuco en el barrio de Chamberí</td>\n",
       "      <td>Entire home/apt</td>\n",
       "      <td>57</td>\n",
       "      <td>5</td>\n",
       "      <td>1</td>\n",
       "      <td>0</td>\n",
       "      <td>1</td>\n",
       "    </tr>\n",
       "    <tr>\n",
       "      <th>2</th>\n",
       "      <td>Castellana</td>\n",
       "      <td>40.43057627460486, -3.6869397877080177</td>\n",
       "      <td>40.430576</td>\n",
       "      <td>-3.686940</td>\n",
       "      <td>Design apartment in Heart of Madrid</td>\n",
       "      <td>Entire home/apt</td>\n",
       "      <td>190</td>\n",
       "      <td>3</td>\n",
       "      <td>3</td>\n",
       "      <td>179</td>\n",
       "      <td>2</td>\n",
       "    </tr>\n",
       "    <tr>\n",
       "      <th>3</th>\n",
       "      <td>Universidad</td>\n",
       "      <td>40.42584028788459, -3.7030496318151873</td>\n",
       "      <td>40.425840</td>\n",
       "      <td>-3.703050</td>\n",
       "      <td>Trendy hip Malasaña duplex  for art&amp;design lovers</td>\n",
       "      <td>Entire home/apt</td>\n",
       "      <td>75</td>\n",
       "      <td>22</td>\n",
       "      <td>5</td>\n",
       "      <td>364</td>\n",
       "      <td>2</td>\n",
       "    </tr>\n",
       "    <tr>\n",
       "      <th>4</th>\n",
       "      <td>Justicia</td>\n",
       "      <td>40.42397401534791, -3.694254168912872</td>\n",
       "      <td>40.423974</td>\n",
       "      <td>-3.694254</td>\n",
       "      <td>MADRID LUXURY &amp; DESIGN</td>\n",
       "      <td>Entire home/apt</td>\n",
       "      <td>180</td>\n",
       "      <td>87</td>\n",
       "      <td>2</td>\n",
       "      <td>0</td>\n",
       "      <td>2</td>\n",
       "    </tr>\n",
       "  </tbody>\n",
       "</table>\n",
       "</div>"
      ],
      "text/plain": [
       "         location                             coordinates   latitude  \\\n",
       "0   Ciudad Jardín  40.45004385318866, -3.6712841871122457  40.450044   \n",
       "1       Trafalgar   40.43042274619744, -3.701693596173804  40.430423   \n",
       "2      Castellana  40.43057627460486, -3.6869397877080177  40.430576   \n",
       "3     Universidad  40.42584028788459, -3.7030496318151873  40.425840   \n",
       "4        Justicia   40.42397401534791, -3.694254168912872  40.423974   \n",
       "\n",
       "   longitude                                               name  \\\n",
       "0  -3.671284     Sunny room with balcony in pretty family house   \n",
       "1  -3.701694      Apartamento muy cuco en el barrio de Chamberí   \n",
       "2  -3.686940                Design apartment in Heart of Madrid   \n",
       "3  -3.703050  Trendy hip Malasaña duplex  for art&design lovers   \n",
       "4  -3.694254                             MADRID LUXURY & DESIGN   \n",
       "\n",
       "         room type  room price  number of reviews  minimum nights  \\\n",
       "0     Private room          26                  6               7   \n",
       "1  Entire home/apt          57                  5               1   \n",
       "2  Entire home/apt         190                  3               3   \n",
       "3  Entire home/apt          75                 22               5   \n",
       "4  Entire home/apt         180                 87               2   \n",
       "\n",
       "   availibility  rooms rent by the host  \n",
       "0           179                       2  \n",
       "1             0                       1  \n",
       "2           179                       2  \n",
       "3           364                       2  \n",
       "4             0                       2  "
      ]
     },
     "execution_count": 2,
     "metadata": {},
     "output_type": "execute_result"
    }
   ],
   "source": [
    "# Cargar desde el .CSV ya preprocesado a un DF de Pandas\n",
    "df = pd.read_csv('CLEAN-air-bnb-listings2.csv', encoding='utf-8')\n",
    "\n",
    "df.head() #Ver Cabecera"
   ]
  },
  {
   "cell_type": "markdown",
   "id": "d8457a16",
   "metadata": {},
   "source": [
    "## 2. Pasar Datos Categóricos a Numéricos en 'room type'"
   ]
  },
  {
   "cell_type": "code",
   "execution_count": 72,
   "id": "1832a443",
   "metadata": {},
   "outputs": [
    {
     "name": "stdout",
     "output_type": "stream",
     "text": [
      "Número de categorías únicas en 'room type': 2\n",
      "Categorías únicas en 'room type': ['Private room' 'Entire home/apt']\n"
     ]
    }
   ],
   "source": [
    "# Categorías únicas en la columna 'room type'\n",
    "unique_room_types = df['room type'].unique()\n",
    "\n",
    "# Número de categorías únicas\n",
    "num_room_types = len(unique_room_types)\n",
    "\n",
    "print(\"Número de categorías únicas en 'room type':\", num_room_types)\n",
    "print(\"Categorías únicas en 'room type':\", unique_room_types)"
   ]
  },
  {
   "cell_type": "code",
   "execution_count": 3,
   "id": "f61a89ed",
   "metadata": {},
   "outputs": [
    {
     "data": {
      "text/html": [
       "<div>\n",
       "<style scoped>\n",
       "    .dataframe tbody tr th:only-of-type {\n",
       "        vertical-align: middle;\n",
       "    }\n",
       "\n",
       "    .dataframe tbody tr th {\n",
       "        vertical-align: top;\n",
       "    }\n",
       "\n",
       "    .dataframe thead th {\n",
       "        text-align: right;\n",
       "    }\n",
       "</style>\n",
       "<table border=\"1\" class=\"dataframe\">\n",
       "  <thead>\n",
       "    <tr style=\"text-align: right;\">\n",
       "      <th></th>\n",
       "      <th>location</th>\n",
       "      <th>coordinates</th>\n",
       "      <th>latitude</th>\n",
       "      <th>longitude</th>\n",
       "      <th>name</th>\n",
       "      <th>room type</th>\n",
       "      <th>room price</th>\n",
       "      <th>number of reviews</th>\n",
       "      <th>minimum nights</th>\n",
       "      <th>availibility</th>\n",
       "      <th>rooms rent by the host</th>\n",
       "    </tr>\n",
       "  </thead>\n",
       "  <tbody>\n",
       "    <tr>\n",
       "      <th>0</th>\n",
       "      <td>Ciudad Jardín</td>\n",
       "      <td>40.45004385318866, -3.6712841871122457</td>\n",
       "      <td>40.450044</td>\n",
       "      <td>-3.671284</td>\n",
       "      <td>Sunny room with balcony in pretty family house</td>\n",
       "      <td>0</td>\n",
       "      <td>26</td>\n",
       "      <td>6</td>\n",
       "      <td>7</td>\n",
       "      <td>179</td>\n",
       "      <td>2</td>\n",
       "    </tr>\n",
       "    <tr>\n",
       "      <th>1</th>\n",
       "      <td>Trafalgar</td>\n",
       "      <td>40.43042274619744, -3.701693596173804</td>\n",
       "      <td>40.430423</td>\n",
       "      <td>-3.701694</td>\n",
       "      <td>Apartamento muy cuco en el barrio de Chamberí</td>\n",
       "      <td>1</td>\n",
       "      <td>57</td>\n",
       "      <td>5</td>\n",
       "      <td>1</td>\n",
       "      <td>0</td>\n",
       "      <td>1</td>\n",
       "    </tr>\n",
       "    <tr>\n",
       "      <th>2</th>\n",
       "      <td>Castellana</td>\n",
       "      <td>40.43057627460486, -3.6869397877080177</td>\n",
       "      <td>40.430576</td>\n",
       "      <td>-3.686940</td>\n",
       "      <td>Design apartment in Heart of Madrid</td>\n",
       "      <td>1</td>\n",
       "      <td>190</td>\n",
       "      <td>3</td>\n",
       "      <td>3</td>\n",
       "      <td>179</td>\n",
       "      <td>2</td>\n",
       "    </tr>\n",
       "    <tr>\n",
       "      <th>3</th>\n",
       "      <td>Universidad</td>\n",
       "      <td>40.42584028788459, -3.7030496318151873</td>\n",
       "      <td>40.425840</td>\n",
       "      <td>-3.703050</td>\n",
       "      <td>Trendy hip Malasaña duplex  for art&amp;design lovers</td>\n",
       "      <td>1</td>\n",
       "      <td>75</td>\n",
       "      <td>22</td>\n",
       "      <td>5</td>\n",
       "      <td>364</td>\n",
       "      <td>2</td>\n",
       "    </tr>\n",
       "    <tr>\n",
       "      <th>4</th>\n",
       "      <td>Justicia</td>\n",
       "      <td>40.42397401534791, -3.694254168912872</td>\n",
       "      <td>40.423974</td>\n",
       "      <td>-3.694254</td>\n",
       "      <td>MADRID LUXURY &amp; DESIGN</td>\n",
       "      <td>1</td>\n",
       "      <td>180</td>\n",
       "      <td>87</td>\n",
       "      <td>2</td>\n",
       "      <td>0</td>\n",
       "      <td>2</td>\n",
       "    </tr>\n",
       "  </tbody>\n",
       "</table>\n",
       "</div>"
      ],
      "text/plain": [
       "         location                             coordinates   latitude  \\\n",
       "0   Ciudad Jardín  40.45004385318866, -3.6712841871122457  40.450044   \n",
       "1       Trafalgar   40.43042274619744, -3.701693596173804  40.430423   \n",
       "2      Castellana  40.43057627460486, -3.6869397877080177  40.430576   \n",
       "3     Universidad  40.42584028788459, -3.7030496318151873  40.425840   \n",
       "4        Justicia   40.42397401534791, -3.694254168912872  40.423974   \n",
       "\n",
       "   longitude                                               name  room type  \\\n",
       "0  -3.671284     Sunny room with balcony in pretty family house          0   \n",
       "1  -3.701694      Apartamento muy cuco en el barrio de Chamberí          1   \n",
       "2  -3.686940                Design apartment in Heart of Madrid          1   \n",
       "3  -3.703050  Trendy hip Malasaña duplex  for art&design lovers          1   \n",
       "4  -3.694254                             MADRID LUXURY & DESIGN          1   \n",
       "\n",
       "   room price  number of reviews  minimum nights  availibility  \\\n",
       "0          26                  6               7           179   \n",
       "1          57                  5               1             0   \n",
       "2         190                  3               3           179   \n",
       "3          75                 22               5           364   \n",
       "4         180                 87               2             0   \n",
       "\n",
       "   rooms rent by the host  \n",
       "0                       2  \n",
       "1                       1  \n",
       "2                       2  \n",
       "3                       2  \n",
       "4                       2  "
      ]
     },
     "execution_count": 3,
     "metadata": {},
     "output_type": "execute_result"
    }
   ],
   "source": [
    "# Mapeo de las categorías en 'room type'\n",
    "df['room type'] = df['room type'].map({'Private room': 0, 'Entire home/apt': 1})\n",
    "\n",
    "df.head()"
   ]
  },
  {
   "cell_type": "markdown",
   "id": "b92ec443",
   "metadata": {},
   "source": [
    "## 3. Estandarización de datos y modelo\n",
    "#### Comprobemos si los datos tienen escalas diferentes empleando la desviación estándar. Así sabremos si es de utilidad normaizarlos antes de construir el modelo."
   ]
  },
  {
   "cell_type": "code",
   "execution_count": 4,
   "id": "988ced74",
   "metadata": {},
   "outputs": [
    {
     "name": "stdout",
     "output_type": "stream",
     "text": [
      "Desviación estándar de características:\n",
      "rooms rent by the host      1.376601\n",
      "availibility              150.310732\n",
      "dtype: float64\n"
     ]
    }
   ],
   "source": [
    "# Desviación estándar de las características más amplias\n",
    "std_deviation = df[['rooms rent by the host', 'availibility']].std()\n",
    "\n",
    "print(\"Desviación estándar de características:\")\n",
    "print(std_deviation)"
   ]
  },
  {
   "cell_type": "markdown",
   "id": "a3ed2180",
   "metadata": {},
   "source": [
    "#### La característica 'rooms rent by the host' tiene una desviación estándar relativamente pequeña (1.376601), mientras que 'availibility' tiene una desviación estándar significativamente mayor (150.310732). Por ello 'availibility' puede tener valores que varían en un rango mucho más amplio en comparación con 'rooms rent by the host'. La normalización puede ser útil para garantizar que todas las características estén en una escala similar, lo que puede ayudar al algoritmo de regresión lineal a converger más rápido y a evitar que características con magnitudes más grandes dominen el modelo."
   ]
  },
  {
   "cell_type": "code",
   "execution_count": 5,
   "id": "316d0ab5",
   "metadata": {},
   "outputs": [
    {
     "name": "stdout",
     "output_type": "stream",
     "text": [
      "Media de las características en X después de la estandarización:\n",
      "[6.12536841e-17 4.53730993e-18]\n",
      "\n",
      "Desviación estándar de las características en X después de la estandarización:\n",
      "[1. 1.]\n"
     ]
    }
   ],
   "source": [
    "# Características y el objetivo\n",
    "features = df[['room type', 'rooms rent by the host', 'availibility']]\n",
    "target = df['room price']\n",
    "\n",
    "# Conjuntos de entrenamiento y prueba\n",
    "X_train, X_test, y_train, y_test = train_test_split(features, target, test_size=0.2, random_state=42)\n",
    "\n",
    "# Normalizar las características numéricas (menos en 'room type')\n",
    "scaler = StandardScaler()\n",
    "X_train_scaled = scaler.fit_transform(X_train.iloc[:, 1:])\n",
    "X_test_scaled = scaler.transform(X_test.iloc[:, 1:])\n",
    "\n",
    "# Media y la desviación estándar después de la estandarización\n",
    "print(\"Media de las características en X después de la estandarización:\")\n",
    "print(X_train_scaled.mean(axis=0))\n",
    "print(\"\\nDesviación estándar de las características en X después de la estandarización:\")\n",
    "print(X_train_scaled.std(axis=0))"
   ]
  },
  {
   "cell_type": "code",
   "execution_count": 6,
   "id": "19dee9aa",
   "metadata": {},
   "outputs": [
    {
     "name": "stdout",
     "output_type": "stream",
     "text": [
      "Mean Squared Error: 984.657556699563\n",
      "R^2 Score: 0.3104253913398999\n"
     ]
    }
   ],
   "source": [
    "# Agregar la columna 'room type' a los conjuntos de entrenamiento y prueba sin normalizar\n",
    "X_train_scaled = np.column_stack((X_train['room type'].values, X_train_scaled))\n",
    "X_test_scaled = np.column_stack((X_test['room type'].values, X_test_scaled))\n",
    "\n",
    "# Inicializar y entrenar el modelo de regresión lineal\n",
    "model = LinearRegression()\n",
    "model.fit(X_train_scaled, y_train)\n",
    "\n",
    "# Realizar predicciones en el conjunto de prueba\n",
    "y_pred = model.predict(X_test_scaled)\n",
    "\n",
    "# Evaluar el modelo\n",
    "mse = mean_squared_error(y_test, y_pred)\n",
    "r2 = r2_score(y_test, y_pred)\n",
    "\n",
    "print(\"Mean Squared Error:\", mse)\n",
    "print(\"R^2 Score:\", r2)"
   ]
  },
  {
   "cell_type": "code",
   "execution_count": 7,
   "id": "8fb16401",
   "metadata": {},
   "outputs": [
    {
     "data": {
      "image/png": "[encoded data removed]",
      "text/plain": [
       "<Figure size 1000x600 with 1 Axes>"
      ]
     },
     "metadata": {},
     "output_type": "display_data"
    }
   ],
   "source": [
    "# Evaluación visual de los resultados\n",
    "plt.figure(figsize=(10, 6))\n",
    "plt.scatter(y_test, y_pred, color='blue', alpha=0.5, label='Predicciones')\n",
    "plt.plot([y_test.min(), y_test.max()], [y_test.min(), y_test.max()], 'k--', lw=2, label='Línea diagonal')\n",
    "plt.xlabel('Valor Real')\n",
    "plt.ylabel('Predicción')\n",
    "plt.title('Predicciones vs Valores Reales')\n",
    "plt.legend()\n",
    "plt.show()"
   ]
  },
  {
   "cell_type": "markdown",
   "id": "316feebf",
   "metadata": {},
   "source": [
    "####  Los resultados para este modelo de regresión lineal son muy modestos en la predicción del precio de los alojamientos turísticos, podemos observar que existe underfitting. Teenmos un MSE relativamente alto y un R^2 que explica solo una parte moderada de la variabilidad en los datos. Así que vamos a intentar mejorarlo optimizando hiperparámetros mediante técnicas de regularización."
   ]
  },
  {
   "cell_type": "markdown",
   "id": "274180bf",
   "metadata": {},
   "source": [
    "## 4. Optimización de hiperparámetros con GridSearchCV para Ridge y Lasso"
   ]
  },
  {
   "cell_type": "code",
   "execution_count": 8,
   "id": "3dfab9b8",
   "metadata": {
    "scrolled": true
   },
   "outputs": [
    {
     "name": "stdout",
     "output_type": "stream",
     "text": [
      "Ridge Regression:\n",
      "Best Alpha: 1\n",
      "Mean Squared Error: 984.5711528365132\n",
      "R^2 Score: 0.3104859016255763\n",
      "\n",
      "LASSO Regression:\n",
      "Best Alpha: 0.1\n",
      "Mean Squared Error: 985.0374047738911\n",
      "R^2 Score: 0.3101593764340853\n"
     ]
    }
   ],
   "source": [
    "# Definir los valores a probar con GSCV\n",
    "alphas = [0.1, 0.5, 1, 5, 10]\n",
    "param_grid_ridge = {'alpha': alphas, 'solver': ['auto', 'svd', 'cholesky', 'lsqr', 'sparse_cg'], 'tol': [0.001, 0.01, 0.1]}\n",
    "param_grid_lasso = {'alpha': alphas, 'selection': ['cyclic', 'random'], 'max_iter': [1000, 2000], 'tol': [0.0001, 0.001]}\n",
    "\n",
    "# Modelos de regresión ridge y LASSO\n",
    "ridge_model = Ridge()\n",
    "lasso_model = Lasso()\n",
    "\n",
    "# Inicializar la búsqueda de hp\n",
    "ridge_grid_search = GridSearchCV(estimator=ridge_model, param_grid=param_grid_ridge, cv=5, scoring='neg_mean_squared_error')\n",
    "lasso_grid_search = GridSearchCV(estimator=lasso_model, param_grid=param_grid_lasso, cv=5, scoring='neg_mean_squared_error')\n",
    "\n",
    "# Entrenar modelos\n",
    "ridge_grid_search.fit(X_train_scaled, y_train)\n",
    "lasso_grid_search.fit(X_train_scaled, y_train)\n",
    "\n",
    "# Obtener mejores hiperparámetros\n",
    "best_alpha_ridge = ridge_grid_search.best_params_['alpha']\n",
    "best_alpha_lasso = lasso_grid_search.best_params_['alpha']\n",
    "\n",
    "# Obtener mejores modelos\n",
    "best_ridge_model = ridge_grid_search.best_estimator_\n",
    "best_lasso_model = lasso_grid_search.best_estimator_\n",
    "\n",
    "# Predicciones\n",
    "y_pred_ridge = best_ridge_model.predict(X_test_scaled)\n",
    "y_pred_lasso = best_lasso_model.predict(X_test_scaled)\n",
    "\n",
    "# Evaluar modelos\n",
    "mse_ridge = mean_squared_error(y_test, y_pred_ridge)\n",
    "r2_ridge = r2_score(y_test, y_pred_ridge)\n",
    "\n",
    "mse_lasso = mean_squared_error(y_test, y_pred_lasso)\n",
    "r2_lasso = r2_score(y_test, y_pred_lasso)\n",
    "\n",
    "print(\"Ridge Regression:\")\n",
    "print(\"Best Alpha:\", best_alpha_ridge)\n",
    "print(\"Mean Squared Error:\", mse_ridge)\n",
    "print(\"R^2 Score:\", r2_ridge)\n",
    "\n",
    "print(\"\\nLASSO Regression:\")\n",
    "print(\"Best Alpha:\", best_alpha_lasso)\n",
    "print(\"Mean Squared Error:\", mse_lasso)\n",
    "print(\"R^2 Score:\", r2_lasso)"
   ]
  },
  {
   "cell_type": "markdown",
   "id": "a28eaf03",
   "metadata": {},
   "source": [
    "#### Conseguimos una leve mejora de los resultados con Ridge Regression. Podríamos llevar a cabo otras acciones para seguir mejorando el modelo."
   ]
  },
  {
   "cell_type": "markdown",
   "id": "3c9918f3",
   "metadata": {},
   "source": [
    "## 5. Guardamos el modelo"
   ]
  },
  {
   "cell_type": "code",
   "execution_count": 9,
   "id": "70478278",
   "metadata": {},
   "outputs": [
    {
     "name": "stdout",
     "output_type": "stream",
     "text": [
      "Modelo de regresión ridge guardado exitosamente en: modelo_ridge2.joblib\n"
     ]
    }
   ],
   "source": [
    "from joblib import dump\n",
    "\n",
    "modelo_ridge_path = 'modelo_ridge2.joblib'\n",
    "dump(best_ridge_model, modelo_ridge_path)\n",
    "\n",
    "print(\"Modelo de regresión ridge guardado exitosamente en:\", modelo_ridge_path)"
   ]
  },
  {
   "cell_type": "markdown",
   "id": "74b9e802",
   "metadata": {},
   "source": [
    "## 6. Cargar el modelo y probarlo"
   ]
  },
  {
   "cell_type": "code",
   "execution_count": 11,
   "id": "44cc47b9",
   "metadata": {},
   "outputs": [],
   "source": [
    "# Cargamos\n",
    "from joblib import load\n",
    "\n",
    "modelo_ridge_path = 'modelo_ridge2.joblib'\n",
    "\n",
    "modelo_ridge = load(modelo_ridge_path)"
   ]
  },
  {
   "cell_type": "code",
   "execution_count": 12,
   "id": "ec47cd70",
   "metadata": {
    "scrolled": true
   },
   "outputs": [
    {
     "data": {
      "application/vnd.jupyter.widget-view+json": {
       "model_id": "fb6e7269e17b44b6909a07f74bdd006e",
       "version_major": 2,
       "version_minor": 0
      },
      "text/plain": [
       "VBox(children=(Dropdown(description='Tipo de habitación:', options=('Habitación privada', 'Apartamento o Casa …"
      ]
     },
     "execution_count": 12,
     "metadata": {},
     "output_type": "execute_result"
    }
   ],
   "source": [
    "import ipywidgets as widgets\n",
    "\n",
    "# Función para hacer predicciones\n",
    "def hacer_prediccion(room_type, rooms_rent, availability):\n",
    "    # Convertir el tipo de habitación a numérico\n",
    "    room_type_numeric = 0 if room_type == 'Habitación privada' else 1\n",
    "    # Hacer la predicción utilizando el modelo cargado\n",
    "    prediction = modelo_ridge.predict([[room_type_numeric, rooms_rent, availability]])\n",
    "    return prediction[0]\n",
    "\n",
    "# Campos para ingresar la información\n",
    "room_type_widget = widgets.Dropdown(\n",
    "    options=['Habitación privada', 'Apartamento o Casa enteros'],\n",
    "    description='Tipo de habitación:',\n",
    "    value='Habitación privada'\n",
    ")\n",
    "\n",
    "rooms_rent_widget = widgets.IntSlider(\n",
    "    value=5,\n",
    "    min=1,\n",
    "    max=10,\n",
    "    step=1,\n",
    "    description='Número de habitaciones:',\n",
    "    continuous_update=False\n",
    ")\n",
    "\n",
    "availability_widget = widgets.IntSlider(\n",
    "    value=180,\n",
    "    min=0,\n",
    "    max=365,\n",
    "    step=1,\n",
    "    description='Disponibilidad (días):',\n",
    "    continuous_update=False\n",
    ")\n",
    "\n",
    "# Función para actualizar la predicción al hacer clic en el botón\n",
    "def obtener_precio(button):\n",
    "    room_type = room_type_widget.value\n",
    "    rooms_rent = rooms_rent_widget.value\n",
    "    availability = availability_widget.value\n",
    "    prediction = hacer_prediccion(room_type, rooms_rent, availability)\n",
    "    print(\"Precio predicho del alojamiento:\", prediction, \"€\")\n",
    "\n",
    "# Botón para obtener el precio\n",
    "boton_obtener_precio = widgets.Button(description=\"Obtener Precio\")\n",
    "boton_obtener_precio.on_click(obtener_precio)\n",
    "\n",
    "# Mostrar los campos y el botón en el notebook\n",
    "widgets.VBox([room_type_widget, rooms_rent_widget, availability_widget, boton_obtener_precio])"
   ]
  }
 ],
 "metadata": {
  "kernelspec": {
   "display_name": "Python 3 (ipykernel)",
   "language": "python",
   "name": "python3"
  },
  "language_info": {
   "codemirror_mode": {
    "name": "ipython",
    "version": 3
   },
   "file_extension": ".py",
   "mimetype": "text/x-python",
   "name": "python",
   "nbconvert_exporter": "python",
   "pygments_lexer": "ipython3",
   "version": "3.12.2"
  }
 },
 "nbformat": 4,
 "nbformat_minor": 5
}
